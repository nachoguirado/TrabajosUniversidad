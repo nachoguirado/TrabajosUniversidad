{
  "nbformat": 4,
  "nbformat_minor": 0,
  "metadata": {
    "celltoolbar": "Raw Cell Format",
    "colab": {
      "name": "Reto_5_Nacho_KNN_SMOTE.ipynb",
      "provenance": [],
      "collapsed_sections": []
    },
    "kernelspec": {
      "display_name": "Python 3",
      "language": "python",
      "name": "python3"
    },
    "language_info": {
      "codemirror_mode": {
        "name": "ipython",
        "version": 3
      },
      "file_extension": ".py",
      "mimetype": "text/x-python",
      "name": "python",
      "nbconvert_exporter": "python",
      "pygments_lexer": "ipython3",
      "version": "3.7.6"
    }
  },
  "cells": [
    {
      "cell_type": "markdown",
      "metadata": {
        "id": "rtlYaDZB38bO"
      },
      "source": [
        "---\n",
        "\n",
        "Vamos a prácticar el KNN para ello  vamos a necesitar las siguientes librerías:"
      ]
    },
    {
      "cell_type": "code",
      "metadata": {
        "id": "Zh-w99zm38bO"
      },
      "source": [
        "import pandas as pd\n",
        "import numpy as np\n",
        "import matplotlib.pyplot as plt\n",
        "from matplotlib.colors import ListedColormap\n",
        "import matplotlib.patches as mpatches\n",
        "import seaborn as sb\n",
        "import statsmodels.api as sm\n",
        "import imblearn\n",
        "from imblearn.over_sampling import SMOTE\n",
        "\n",
        "%matplotlib inline\n",
        "plt.rcParams['figure.figsize'] = (16, 9)\n",
        "plt.style.use('ggplot')\n",
        "\n",
        "from sklearn.preprocessing import MinMaxScaler\n",
        "from sklearn.model_selection import train_test_split\n",
        "from sklearn.model_selection import GridSearchCV\n",
        "from sklearn.compose import ColumnTransformer\n",
        "from sklearn.preprocessing import OneHotEncoder\n",
        "from sklearn.metrics import accuracy_score\n",
        "from sklearn.metrics import confusion_matrix\n",
        "from sklearn.metrics import classification_report\n",
        "from sklearn.metrics import confusion_matrix\n",
        "\n",
        "# Preprocesado y modelado KNN\n",
        "from sklearn.neighbors import KNeighborsClassifier\n",
        "\n",
        "# Configuración warnings\n",
        "# ------------------------------------------------------------------------------\n",
        "import warnings\n",
        "warnings.filterwarnings('once')"
      ],
      "execution_count": 3,
      "outputs": []
    },
    {
      "cell_type": "markdown",
      "metadata": {
        "id": "lImjEO_s38bS"
      },
      "source": [
        " ### Leemos nuestro archivo de entrada"
      ]
    },
    {
      "cell_type": "code",
      "metadata": {
        "colab": {
          "base_uri": "https://localhost:8080/",
          "height": 520
        },
        "id": "d9BqMYu738bS",
        "outputId": "0c511e4f-a468-451d-b8ac-f62a6795823a"
      },
      "source": [
        "dataframe = pd.read_csv(r\"reviews_sentiment.csv\",sep=';')\n",
        "dataframe.head(15)\n"
      ],
      "execution_count": 4,
      "outputs": [
        {
          "output_type": "execute_result",
          "data": {
            "text/html": [
              "<div>\n",
              "<style scoped>\n",
              "    .dataframe tbody tr th:only-of-type {\n",
              "        vertical-align: middle;\n",
              "    }\n",
              "\n",
              "    .dataframe tbody tr th {\n",
              "        vertical-align: top;\n",
              "    }\n",
              "\n",
              "    .dataframe thead th {\n",
              "        text-align: right;\n",
              "    }\n",
              "</style>\n",
              "<table border=\"1\" class=\"dataframe\">\n",
              "  <thead>\n",
              "    <tr style=\"text-align: right;\">\n",
              "      <th></th>\n",
              "      <th>Review Title</th>\n",
              "      <th>Review Text</th>\n",
              "      <th>wordcount</th>\n",
              "      <th>titleSentiment</th>\n",
              "      <th>textSentiment</th>\n",
              "      <th>Star Rating</th>\n",
              "      <th>sentimentValue</th>\n",
              "    </tr>\n",
              "  </thead>\n",
              "  <tbody>\n",
              "    <tr>\n",
              "      <th>0</th>\n",
              "      <td>Sin conexión</td>\n",
              "      <td>Hola desde hace algo más de un mes me pone sin...</td>\n",
              "      <td>23</td>\n",
              "      <td>negative</td>\n",
              "      <td>negative</td>\n",
              "      <td>1</td>\n",
              "      <td>-0.486389</td>\n",
              "    </tr>\n",
              "    <tr>\n",
              "      <th>1</th>\n",
              "      <td>faltan cosas</td>\n",
              "      <td>Han mejorado la apariencia pero no</td>\n",
              "      <td>20</td>\n",
              "      <td>negative</td>\n",
              "      <td>negative</td>\n",
              "      <td>1</td>\n",
              "      <td>-0.586187</td>\n",
              "    </tr>\n",
              "    <tr>\n",
              "      <th>2</th>\n",
              "      <td>Es muy buena lo recomiendo</td>\n",
              "      <td>Andres e puto amoooo</td>\n",
              "      <td>4</td>\n",
              "      <td>NaN</td>\n",
              "      <td>negative</td>\n",
              "      <td>1</td>\n",
              "      <td>-0.602240</td>\n",
              "    </tr>\n",
              "    <tr>\n",
              "      <th>3</th>\n",
              "      <td>Version antigua</td>\n",
              "      <td>Me gustana mas la version anterior esta es mas...</td>\n",
              "      <td>17</td>\n",
              "      <td>NaN</td>\n",
              "      <td>negative</td>\n",
              "      <td>1</td>\n",
              "      <td>-0.616271</td>\n",
              "    </tr>\n",
              "    <tr>\n",
              "      <th>4</th>\n",
              "      <td>Esta bien</td>\n",
              "      <td>Sin ser la biblia.... Esta bien</td>\n",
              "      <td>6</td>\n",
              "      <td>negative</td>\n",
              "      <td>negative</td>\n",
              "      <td>1</td>\n",
              "      <td>-0.651784</td>\n",
              "    </tr>\n",
              "    <tr>\n",
              "      <th>5</th>\n",
              "      <td>Buena</td>\n",
              "      <td>Nada del otro mundo pero han mejorado mucho</td>\n",
              "      <td>8</td>\n",
              "      <td>positive</td>\n",
              "      <td>negative</td>\n",
              "      <td>1</td>\n",
              "      <td>-0.720443</td>\n",
              "    </tr>\n",
              "    <tr>\n",
              "      <th>6</th>\n",
              "      <td>De gran ayuda</td>\n",
              "      <td>Lo malo q necesita de …,pero la app es muy buena</td>\n",
              "      <td>23</td>\n",
              "      <td>positive</td>\n",
              "      <td>negative</td>\n",
              "      <td>1</td>\n",
              "      <td>-0.726825</td>\n",
              "    </tr>\n",
              "    <tr>\n",
              "      <th>7</th>\n",
              "      <td>Muy buena</td>\n",
              "      <td>Estaba más acostumbrado al otro diseño, pero e...</td>\n",
              "      <td>16</td>\n",
              "      <td>positive</td>\n",
              "      <td>negative</td>\n",
              "      <td>1</td>\n",
              "      <td>-0.736769</td>\n",
              "    </tr>\n",
              "    <tr>\n",
              "      <th>8</th>\n",
              "      <td>Ta to guapa.</td>\n",
              "      <td>Va de escándalo</td>\n",
              "      <td>21</td>\n",
              "      <td>positive</td>\n",
              "      <td>negative</td>\n",
              "      <td>1</td>\n",
              "      <td>-0.765284</td>\n",
              "    </tr>\n",
              "    <tr>\n",
              "      <th>9</th>\n",
              "      <td>Se han corregido</td>\n",
              "      <td>Han corregido muchos fallos pero el diseño es ...</td>\n",
              "      <td>13</td>\n",
              "      <td>negative</td>\n",
              "      <td>negative</td>\n",
              "      <td>1</td>\n",
              "      <td>-0.797961</td>\n",
              "    </tr>\n",
              "    <tr>\n",
              "      <th>10</th>\n",
              "      <td>Parece que va mejor.</td>\n",
              "      <td>No se cuelga tanto</td>\n",
              "      <td>4</td>\n",
              "      <td>positive</td>\n",
              "      <td>negative</td>\n",
              "      <td>1</td>\n",
              "      <td>-0.833488</td>\n",
              "    </tr>\n",
              "    <tr>\n",
              "      <th>11</th>\n",
              "      <td>Dice q hay una nueva versión?</td>\n",
              "      <td>Xq no me sale la opción de actualizarla entonces?</td>\n",
              "      <td>9</td>\n",
              "      <td>negative</td>\n",
              "      <td>negative</td>\n",
              "      <td>1</td>\n",
              "      <td>-0.838467</td>\n",
              "    </tr>\n",
              "    <tr>\n",
              "      <th>12</th>\n",
              "      <td>Útil</td>\n",
              "      <td>Falta opción</td>\n",
              "      <td>4</td>\n",
              "      <td>positive</td>\n",
              "      <td>negative</td>\n",
              "      <td>1</td>\n",
              "      <td>-0.888559</td>\n",
              "    </tr>\n",
              "    <tr>\n",
              "      <th>13</th>\n",
              "      <td>Me indica una nueva version</td>\n",
              "      <td>Dice que existe una nueva version, pero no sal...</td>\n",
              "      <td>23</td>\n",
              "      <td>negative</td>\n",
              "      <td>negative</td>\n",
              "      <td>1</td>\n",
              "      <td>-1.002696</td>\n",
              "    </tr>\n",
              "    <tr>\n",
              "      <th>14</th>\n",
              "      <td>No me funciona</td>\n",
              "      <td>Mui buena pero a veces no acen</td>\n",
              "      <td>14</td>\n",
              "      <td>negative</td>\n",
              "      <td>negative</td>\n",
              "      <td>1</td>\n",
              "      <td>-1.083269</td>\n",
              "    </tr>\n",
              "  </tbody>\n",
              "</table>\n",
              "</div>"
            ],
            "text/plain": [
              "                     Review Title  ... sentimentValue\n",
              "0                    Sin conexión  ...      -0.486389\n",
              "1                    faltan cosas  ...      -0.586187\n",
              "2      Es muy buena lo recomiendo  ...      -0.602240\n",
              "3                 Version antigua  ...      -0.616271\n",
              "4                       Esta bien  ...      -0.651784\n",
              "5                           Buena  ...      -0.720443\n",
              "6                   De gran ayuda  ...      -0.726825\n",
              "7                       Muy buena  ...      -0.736769\n",
              "8                    Ta to guapa.  ...      -0.765284\n",
              "9                Se han corregido  ...      -0.797961\n",
              "10           Parece que va mejor.  ...      -0.833488\n",
              "11  Dice q hay una nueva versión?  ...      -0.838467\n",
              "12                           Útil  ...      -0.888559\n",
              "13    Me indica una nueva version  ...      -1.002696\n",
              "14                 No me funciona  ...      -1.083269\n",
              "\n",
              "[15 rows x 7 columns]"
            ]
          },
          "metadata": {},
          "execution_count": 4
        }
      ]
    },
    {
      "cell_type": "code",
      "metadata": {
        "colab": {
          "base_uri": "https://localhost:8080/",
          "height": 300
        },
        "id": "u0aLvpN038bT",
        "outputId": "02c7737b-0adf-4060-cf32-8d88245016d9"
      },
      "source": [
        "# Describimos nuestros datos para ver cómo se distribuyen los datos\n",
        "dataframe.describe()"
      ],
      "execution_count": 5,
      "outputs": [
        {
          "output_type": "execute_result",
          "data": {
            "text/html": [
              "<div>\n",
              "<style scoped>\n",
              "    .dataframe tbody tr th:only-of-type {\n",
              "        vertical-align: middle;\n",
              "    }\n",
              "\n",
              "    .dataframe tbody tr th {\n",
              "        vertical-align: top;\n",
              "    }\n",
              "\n",
              "    .dataframe thead th {\n",
              "        text-align: right;\n",
              "    }\n",
              "</style>\n",
              "<table border=\"1\" class=\"dataframe\">\n",
              "  <thead>\n",
              "    <tr style=\"text-align: right;\">\n",
              "      <th></th>\n",
              "      <th>wordcount</th>\n",
              "      <th>Star Rating</th>\n",
              "      <th>sentimentValue</th>\n",
              "    </tr>\n",
              "  </thead>\n",
              "  <tbody>\n",
              "    <tr>\n",
              "      <th>count</th>\n",
              "      <td>257.000000</td>\n",
              "      <td>257.000000</td>\n",
              "      <td>257.000000</td>\n",
              "    </tr>\n",
              "    <tr>\n",
              "      <th>mean</th>\n",
              "      <td>11.501946</td>\n",
              "      <td>3.420233</td>\n",
              "      <td>0.383849</td>\n",
              "    </tr>\n",
              "    <tr>\n",
              "      <th>std</th>\n",
              "      <td>13.159812</td>\n",
              "      <td>1.409531</td>\n",
              "      <td>0.897987</td>\n",
              "    </tr>\n",
              "    <tr>\n",
              "      <th>min</th>\n",
              "      <td>1.000000</td>\n",
              "      <td>1.000000</td>\n",
              "      <td>-2.276469</td>\n",
              "    </tr>\n",
              "    <tr>\n",
              "      <th>25%</th>\n",
              "      <td>3.000000</td>\n",
              "      <td>3.000000</td>\n",
              "      <td>-0.108144</td>\n",
              "    </tr>\n",
              "    <tr>\n",
              "      <th>50%</th>\n",
              "      <td>7.000000</td>\n",
              "      <td>3.000000</td>\n",
              "      <td>0.264091</td>\n",
              "    </tr>\n",
              "    <tr>\n",
              "      <th>75%</th>\n",
              "      <td>16.000000</td>\n",
              "      <td>5.000000</td>\n",
              "      <td>0.808384</td>\n",
              "    </tr>\n",
              "    <tr>\n",
              "      <th>max</th>\n",
              "      <td>103.000000</td>\n",
              "      <td>5.000000</td>\n",
              "      <td>3.264579</td>\n",
              "    </tr>\n",
              "  </tbody>\n",
              "</table>\n",
              "</div>"
            ],
            "text/plain": [
              "        wordcount  Star Rating  sentimentValue\n",
              "count  257.000000   257.000000      257.000000\n",
              "mean    11.501946     3.420233        0.383849\n",
              "std     13.159812     1.409531        0.897987\n",
              "min      1.000000     1.000000       -2.276469\n",
              "25%      3.000000     3.000000       -0.108144\n",
              "50%      7.000000     3.000000        0.264091\n",
              "75%     16.000000     5.000000        0.808384\n",
              "max    103.000000     5.000000        3.264579"
            ]
          },
          "metadata": {},
          "execution_count": 5
        }
      ]
    },
    {
      "cell_type": "code",
      "metadata": {
        "id": "KMP0SwhO38bU",
        "colab": {
          "base_uri": "https://localhost:8080/"
        },
        "outputId": "66b94f86-adcb-4aff-e4ac-c47dc3be1830"
      },
      "source": [
        "dataframe.loc[:, 'Star Rating']"
      ],
      "execution_count": 6,
      "outputs": [
        {
          "output_type": "execute_result",
          "data": {
            "text/plain": [
              "0      1\n",
              "1      1\n",
              "2      1\n",
              "3      1\n",
              "4      1\n",
              "      ..\n",
              "252    5\n",
              "253    5\n",
              "254    5\n",
              "255    5\n",
              "256    5\n",
              "Name: Star Rating, Length: 257, dtype: int64"
            ]
          },
          "metadata": {},
          "execution_count": 6
        }
      ]
    },
    {
      "cell_type": "code",
      "metadata": {
        "colab": {
          "base_uri": "https://localhost:8080/",
          "height": 738
        },
        "id": "LFkiURrl38bU",
        "outputId": "12d0aa9a-d64e-42ca-f79f-41e2f705cf45"
      },
      "source": [
        "sb.displot(dataframe, x=\"Star Rating\", bins=[1, 2, 3, 4, 5])\n",
        "sb.displot(dataframe, x=\"Star Rating\", discrete=True)"
      ],
      "execution_count": 7,
      "outputs": [
        {
          "output_type": "execute_result",
          "data": {
            "text/plain": [
              "<seaborn.axisgrid.FacetGrid at 0x7f149bfe9390>"
            ]
          },
          "metadata": {},
          "execution_count": 7
        },
        {
          "output_type": "display_data",
          "data": {
            "image/png": "[encoded data removed]",
            "text/plain": [
              "<Figure size 360x360 with 1 Axes>"
            ]
          },
          "metadata": {}
        },
        {
          "output_type": "display_data",
          "data": {
            "image/png": "[encoded data removed]",
            "text/plain": [
              "<Figure size 360x360 with 1 Axes>"
            ]
          },
          "metadata": {}
        }
      ]
    },
    {
      "cell_type": "markdown",
      "metadata": {
        "id": "JUX_n-ul38bV"
      },
      "source": [
        "### EDA Básico"
      ]
    },
    {
      "cell_type": "markdown",
      "metadata": {
        "id": "-WmM-PFS38bV"
      },
      "source": [
        "En seaborn podemos utilizar FacetGrid y realizar el gráfico como un [factorplot](https://www.emilkhatib.es/representaciones-graficas-con-seaborn)"
      ]
    },
    {
      "cell_type": "code",
      "metadata": {
        "colab": {
          "base_uri": "https://localhost:8080/",
          "height": 554
        },
        "id": "f3CPFrwn38bW",
        "outputId": "5c907175-48c4-4d24-b7a1-a50631d13a72"
      },
      "source": [
        "dataframe.hist()\n",
        "plt.show()"
      ],
      "execution_count": 8,
      "outputs": [
        {
          "output_type": "display_data",
          "data": {
            "image/png": "[encoded data removed]",
            "text/plain": [
              "<Figure size 1152x648 with 4 Axes>"
            ]
          },
          "metadata": {}
        }
      ]
    },
    {
      "cell_type": "markdown",
      "metadata": {
        "id": "i775T0Lv38bW"
      },
      "source": [
        "<div style=\"background-color: #fcf2f2; border-color: #dfb5b4; border-left: 5px solid #dfb5b4; padding: 0.5em;\">\n",
        "<strong>Solución:</strong>\n",
        "</div>"
      ]
    },
    {
      "cell_type": "code",
      "metadata": {
        "colab": {
          "base_uri": "https://localhost:8080/"
        },
        "id": "ynQ2WgJY38bW",
        "outputId": "bc88814d-4797-4135-fc95-f9ec11f5194e"
      },
      "source": [
        "# Calculamos las frecuencias de Star Rating\n",
        "print(dataframe.groupby('Star Rating').size())\n"
      ],
      "execution_count": 9,
      "outputs": [
        {
          "output_type": "stream",
          "name": "stdout",
          "text": [
            "Star Rating\n",
            "1    37\n",
            "2    24\n",
            "3    78\n",
            "4    30\n",
            "5    88\n",
            "dtype: int64\n"
          ]
        }
      ]
    },
    {
      "cell_type": "code",
      "metadata": {
        "colab": {
          "base_uri": "https://localhost:8080/",
          "height": 897
        },
        "id": "DDmToQyE38bX",
        "outputId": "84b056ac-4ed0-4220-c31c-8294d1a24fec"
      },
      "source": [
        "sb.factorplot('Star Rating',data=dataframe,kind=\"count\", aspect=3)\n",
        "sb.factorplot('wordcount',data=dataframe,kind=\"count\", aspect=3)"
      ],
      "execution_count": 10,
      "outputs": [
        {
          "output_type": "stream",
          "name": "stderr",
          "text": [
            "/usr/local/lib/python3.7/dist-packages/seaborn/categorical.py:3717: UserWarning: The `factorplot` function has been renamed to `catplot`. The original name will be removed in a future release. Please update your code. Note that the default `kind` in `factorplot` (`'point'`) has changed `'strip'` in `catplot`.\n",
            "  warnings.warn(msg)\n",
            "/usr/local/lib/python3.7/dist-packages/seaborn/_decorators.py:43: FutureWarning: Pass the following variable as a keyword arg: x. From version 0.12, the only valid positional argument will be `data`, and passing other arguments without an explicit keyword will result in an error or misinterpretation.\n",
            "  FutureWarning\n",
            "/usr/local/lib/python3.7/dist-packages/seaborn/categorical.py:3717: UserWarning: The `factorplot` function has been renamed to `catplot`. The original name will be removed in a future release. Please update your code. Note that the default `kind` in `factorplot` (`'point'`) has changed `'strip'` in `catplot`.\n",
            "  warnings.warn(msg)\n",
            "/usr/local/lib/python3.7/dist-packages/seaborn/_decorators.py:43: FutureWarning: Pass the following variable as a keyword arg: x. From version 0.12, the only valid positional argument will be `data`, and passing other arguments without an explicit keyword will result in an error or misinterpretation.\n",
            "  FutureWarning\n"
          ]
        },
        {
          "output_type": "execute_result",
          "data": {
            "text/plain": [
              "<seaborn.axisgrid.FacetGrid at 0x7f144adcddd0>"
            ]
          },
          "metadata": {},
          "execution_count": 10
        },
        {
          "output_type": "display_data",
          "data": {
            "image/png": "[encoded data removed]",
            "text/plain": [
              "<Figure size 1080x360 with 1 Axes>"
            ]
          },
          "metadata": {}
        },
        {
          "output_type": "display_data",
          "data": {
            "image/png": "[encoded data removed]",
            "text/plain": [
              "<Figure size 1080x360 with 1 Axes>"
            ]
          },
          "metadata": {}
        }
      ]
    },
    {
      "cell_type": "markdown",
      "metadata": {
        "id": "KCbQ8-Ui38bX"
      },
      "source": [
        "<div style=\"background-color: #EDF7FF; border-color: #7C9DBF; border-left: 5px solid #7C9DBF; padding: 0.5em;\">\n",
        "¿Qué podemos interpretar de las gráficas anteriores? \n",
        "    \n",
        "\n",
        "</div>"
      ]
    },
    {
      "cell_type": "markdown",
      "metadata": {
        "id": "uCXz-wh038bX"
      },
      "source": [
        "<div style=\"background-color: #fcf2f2; border-color: #dfb5b4; border-left: 5px solid #dfb5b4; padding: 0.5em;\">\n",
        "\n",
        "Vemos que la distribución de “estrellas” no está balanceada… esto no es bueno. Convendría tener las mismas cantidades en las salidas para no tener resultados “tendenciosos”. \n",
        "\n",
        "La gráfica de Valores de Sentimientos se parece bastante a una campana gaussiana (distribución normal) movida levemente hacia la derecha del cero. \n",
        "\n",
        "Podemos observar que la mayoría de los comentarios se clasifican como neutros.\n",
        "\n",
        "\n",
        "Por último la cantidad de palabras se centra sobre todo de 0 a 10.Es decir, la mayoría de las reseñas son bastante cortas.  \n",
        "U\n",
        "n análisis extra que se podía hacer es ver la relación entre la variable Star Rating y el número de palabras que se utiliza para realizar una reseña (¿Las reseñas positivas suelen ser más cortas o más largas que las reseñas negativas?¿Solemos expresar nuestra disconformidad siendo parcos de palabras o por el contrario solemos \"dar más explicaciones\"?   \n",
        "</div>"
      ]
    },
    {
      "cell_type": "markdown",
      "metadata": {
        "id": "wP8yReFZ38bX"
      },
      "source": [
        "### Construcción del modelo\n",
        "Vamos a construir nuestro kNN. Para ello dividiremos el set de datos en entrenamiento y test y utilizaremos k = 7"
      ]
    },
    {
      "cell_type": "code",
      "metadata": {
        "colab": {
          "base_uri": "https://localhost:8080/"
        },
        "id": "_hJwTA8y38bY",
        "outputId": "7825c2df-bc9e-45b0-fe86-157204a51cf5"
      },
      "source": [
        "# Dividimos en train/test\n",
        "\n",
        "X = dataframe[['wordcount','sentimentValue']].values\n",
        "y = dataframe['Star Rating'].values\n",
        "\n",
        "oversample = SMOTE()\n",
        "X, y= oversample.fit_resample(X, y)\n",
        "\n",
        "X_train, X_test, y_train, y_test = train_test_split(X, y, random_state=0)\n",
        "scaler = MinMaxScaler()\n",
        "X_train = scaler.fit_transform(X_train)\n",
        "X_test = scaler.transform(X_test)\n",
        "\n"
      ],
      "execution_count": 11,
      "outputs": [
        {
          "output_type": "stream",
          "name": "stderr",
          "text": [
            "/usr/local/lib/python3.7/dist-packages/sklearn/utils/deprecation.py:87: FutureWarning: Function safe_indexing is deprecated; safe_indexing is deprecated in version 0.22 and will be removed in version 0.24.\n",
            "  warnings.warn(msg, category=FutureWarning)\n",
            "/usr/local/lib/python3.7/dist-packages/sklearn/utils/deprecation.py:87: FutureWarning: Function safe_indexing is deprecated; safe_indexing is deprecated in version 0.22 and will be removed in version 0.24.\n",
            "  warnings.warn(msg, category=FutureWarning)\n",
            "/usr/local/lib/python3.7/dist-packages/sklearn/utils/deprecation.py:87: FutureWarning: Function safe_indexing is deprecated; safe_indexing is deprecated in version 0.22 and will be removed in version 0.24.\n",
            "  warnings.warn(msg, category=FutureWarning)\n",
            "/usr/local/lib/python3.7/dist-packages/sklearn/utils/deprecation.py:87: FutureWarning: Function safe_indexing is deprecated; safe_indexing is deprecated in version 0.22 and will be removed in version 0.24.\n",
            "  warnings.warn(msg, category=FutureWarning)\n"
          ]
        }
      ]
    },
    {
      "cell_type": "code",
      "metadata": {
        "colab": {
          "base_uri": "https://localhost:8080/"
        },
        "id": "O2VBUWjt38bY",
        "outputId": "7bb2b43f-d7e6-476b-ad31-f21682ff92ba"
      },
      "source": [
        "# Creamos nuestro modelo\n",
        "# Elegimos el número de vecinos\n",
        "n_neighbors = 7\n",
        "\n",
        "# Llamamos al modelo y lo ajustamos\n",
        "knn = KNeighborsClassifier(n_neighbors)\n",
        "knn.fit(X_train, y_train)\n",
        "\n",
        "print('Accuracy of K-NN classifier on training set: {:.2f}'\n",
        "     .format(knn.score(X_train, y_train)))\n",
        "print('Accuracy of K-NN classifier on test set: {:.2f}'\n",
        "     .format(knn.score(X_test, y_test)))"
      ],
      "execution_count": 12,
      "outputs": [
        {
          "output_type": "stream",
          "name": "stdout",
          "text": [
            "Accuracy of K-NN classifier on training set: 0.94\n",
            "Accuracy of K-NN classifier on test set: 0.89\n"
          ]
        }
      ]
    },
    {
      "cell_type": "code",
      "metadata": {
        "colab": {
          "base_uri": "https://localhost:8080/"
        },
        "id": "fe0Nv1_f38bY",
        "outputId": "6e1d98f7-264a-4f97-9a08-a67575dd8f8d"
      },
      "source": [
        "# Realizamos las predicciones con predict\n",
        "pred = knn.predict(X_test)\n",
        "print(confusion_matrix(y_test, pred))\n",
        "print(classification_report(y_test, pred))"
      ],
      "execution_count": 13,
      "outputs": [
        {
          "output_type": "stream",
          "name": "stdout",
          "text": [
            "[[24  0  1  0  0]\n",
            " [ 0 25  0  0  0]\n",
            " [ 1  1 18  0  0]\n",
            " [ 0  0  3 13  1]\n",
            " [ 0  0  5  0 18]]\n",
            "              precision    recall  f1-score   support\n",
            "\n",
            "           1       0.96      0.96      0.96        25\n",
            "           2       0.96      1.00      0.98        25\n",
            "           3       0.67      0.90      0.77        20\n",
            "           4       1.00      0.76      0.87        17\n",
            "           5       0.95      0.78      0.86        23\n",
            "\n",
            "    accuracy                           0.89       110\n",
            "   macro avg       0.91      0.88      0.89       110\n",
            "weighted avg       0.91      0.89      0.89       110\n",
            "\n"
          ]
        }
      ]
    },
    {
      "cell_type": "markdown",
      "metadata": {
        "id": "Kubj1ytP38bZ"
      },
      "source": [
        "### Dibuja las fronteras de decisión\n",
        "Dibujamos las fronteras de decisión <br>\n",
        "En este caso hemos llamado al modelo kNN como clf"
      ]
    },
    {
      "cell_type": "code",
      "metadata": {
        "colab": {
          "base_uri": "https://localhost:8080/",
          "height": 554
        },
        "id": "nR5NqS6338bZ",
        "outputId": "e3397925-ac5c-453c-f684-6b2f23e35f8d"
      },
      "source": [
        "h = .02  # step size in the mesh\n",
        "\n",
        "X = dataframe[['wordcount','sentimentValue']].values\n",
        "y = dataframe['Star Rating'].values\n",
        "# Create color maps\n",
        "cmap_light = ListedColormap(['#FFAAAA', '#ffcc99', '#ffffb3','#b3ffff','#c2f0c2'])\n",
        "cmap_bold = ListedColormap(['#FF0000', '#ff9933','#FFFF00','#00ffff','#00FF00'])\n",
        "\n",
        "# we create an instance of Neighbours Classifier and fit the data.\n",
        "clf = KNeighborsClassifier(n_neighbors=7, weights='distance')\n",
        "clf.fit(X, y)\n",
        "\n",
        "# Plot the decision boundary. For that, we will assign a color to each\n",
        "# point in the mesh [x_min, x_max]x[y_min, y_max].\n",
        "x_min, x_max = X[:, 0].min() - 1, X[:, 0].max() + 1\n",
        "y_min, y_max = X[:, 1].min() - 1, X[:, 1].max() + 1\n",
        "xx, yy = np.meshgrid(np.arange(x_min, x_max, h),\n",
        "                         np.arange(y_min, y_max, h))\n",
        "Z = clf.predict(np.c_[xx.ravel(), yy.ravel()])\n",
        "\n",
        "# Put the result into a color plot\n",
        "Z = Z.reshape(xx.shape)\n",
        "plt.figure()\n",
        "plt.pcolormesh(xx, yy, Z, cmap=cmap_light)\n",
        "\n",
        "# Graficamos también los puntos de entrenamiento\n",
        "plt.scatter(X[:, 0], X[:, 1], c=y, cmap=cmap_bold,\n",
        "                edgecolor='k', s=20)\n",
        "plt.xlim(xx.min(), xx.max())\n",
        "plt.ylim(yy.min(), yy.max())\n",
        "    \n",
        "patch0 = mpatches.Patch(color='#FF0000', label='1')\n",
        "patch1 = mpatches.Patch(color='#ff9933', label='2')\n",
        "patch2 = mpatches.Patch(color='#FFFF00', label='3')\n",
        "patch3 = mpatches.Patch(color='#00ffff', label='4')\n",
        "patch4 = mpatches.Patch(color='#00FF00', label='5')\n",
        "plt.legend(handles=[patch0, patch1, patch2, patch3,patch4])\n",
        "\n",
        "    \n",
        "plt.title(\"5-Class classification\")\n",
        "               \n",
        "\n",
        "plt.show()"
      ],
      "execution_count": 14,
      "outputs": [
        {
          "output_type": "display_data",
          "data": {
            "image/png": "[encoded data removed]",
            "text/plain": [
              "<Figure size 1152x648 with 1 Axes>"
            ]
          },
          "metadata": {}
        }
      ]
    },
    {
      "cell_type": "markdown",
      "metadata": {
        "id": "M8iiqN6n38bZ"
      },
      "source": [
        " Viendo la frontera de decisión, ¿qué características podemos intuir de los usuarios que usan y valoran la app?\n"
      ]
    },
    {
      "cell_type": "markdown",
      "metadata": {
        "id": "7MtJAjEq38ba"
      },
      "source": [
        "Podríamos decir “a ojo” según el gráfico anterior que una review de 20 palabras y Sentimiento 1, nos daría una valoración de 4 (zona celeste). <br>\n",
        "Con estas zonas podemos intuir ciertas características de los usuarios que usan y valoran la app: <br>\n",
        "- Los usuarios que ponen 1 estrella tienen sentimiento negativo y usan hasta 25 palabras. <br>\n",
        "- Los usuarios que ponen 2 estrellas dan muchas explicaciones (hasta 100 palabras) y su sentimiento puede variar entre negativo y algo positivo. <br>\n",
        "- Los usuarios que ponen 3 estrellas son bastante neutrales en sentimientos, puesto que están en torno al cero y usan hasta unas 25 palabras. <br>\n",
        "- Los usuarios que dan 5 estrellas son bastante positivos (de 0,5 en adelante, aproximadamente) y suelen utilizar pocas palabras (hasta 10)."
      ]
    },
    {
      "cell_type": "markdown",
      "metadata": {
        "id": "8t_RtLgn38ba"
      },
      "source": [
        "### Vamos a elegir el mejor valor de K\n"
      ]
    },
    {
      "cell_type": "markdown",
      "metadata": {
        "id": "sfdADJAP38ba"
      },
      "source": [
        " En el anterior apartado hemos realizado nuestro modelo con k = 7, es decir con 7 vecinos. \n",
        "Para elegir el k más adecuado vamos a ejecutar el algortimo kNN para valores que varían entre 1 y 20. "
      ]
    },
    {
      "cell_type": "code",
      "metadata": {
        "colab": {
          "base_uri": "https://localhost:8080/",
          "height": 383
        },
        "id": "AaBTiQ_-38ba",
        "outputId": "2286650b-22b2-4c5d-dbba-58c549e25521"
      },
      "source": [
        "# Defino el rango de k que voy a probar\n",
        "k_range = range(1, 20)\n",
        "\n",
        "# Me guardo los resultados en una lista que voy a llamar scores\n",
        "scores = []\n",
        "for k in k_range:\n",
        "    knn = KNeighborsClassifier(n_neighbors = k)\n",
        "    knn.fit(X_train, y_train)\n",
        "    scores.append(knn.score(X_test, y_test))\n",
        "\n",
        "# Grafico los resultados para poder visualizar cuál sería el k que me da una mayor accuracy\n",
        "plt.figure()\n",
        "plt.xlabel('k')\n",
        "plt.ylabel('accuracy')\n",
        "plt.scatter(k_range, scores)\n",
        "plt.xticks([0,5,10,15,20])"
      ],
      "execution_count": null,
      "outputs": [
        {
          "data": {
            "text/plain": [
              "([<matplotlib.axis.XTick at 0x7fc84dfe6e90>,\n",
              "  <matplotlib.axis.XTick at 0x7fc84dfe6610>,\n",
              "  <matplotlib.axis.XTick at 0x7fc88d71ded0>,\n",
              "  <matplotlib.axis.XTick at 0x7fc84df7ec10>,\n",
              "  <matplotlib.axis.XTick at 0x7fc84df83090>],\n",
              " <a list of 5 Text major ticklabel objects>)"
            ]
          },
          "execution_count": 17,
          "metadata": {},
          "output_type": "execute_result"
        },
        {
          "data": {
            "image/png": "[encoded data removed]",
            "text/plain": [
              "<Figure size 432x288 with 1 Axes>"
            ]
          },
          "metadata": {
            "needs_background": "light"
          },
          "output_type": "display_data"
        }
      ]
    }
  ]
}